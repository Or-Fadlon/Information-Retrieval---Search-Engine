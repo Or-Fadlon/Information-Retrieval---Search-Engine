{
 "cells": [
  {
   "cell_type": "code",
   "execution_count": 1,
   "metadata": {
    "id": "FrBdFNYgiyab"
   },
   "outputs": [
    {
     "name": "stdout",
     "output_type": "stream",
     "text": [
      "WARNING: timestamping does nothing in combination with -O. See the manual\n",
      "for details.\n",
      "\n",
      "--2022-01-07 11:38:01--  https://bin.equinox.io/c/4VmDzA7iaHb/ngrok-stable-linux-amd64.zip\n",
      "Resolving bin.equinox.io (bin.equinox.io)... 52.202.168.65, 54.161.241.46, 18.205.222.128, ...\n",
      "Connecting to bin.equinox.io (bin.equinox.io)|52.202.168.65|:443... connected.\n",
      "HTTP request sent, awaiting response... 200 OK\n",
      "Length: 13832437 (13M) [application/octet-stream]\n",
      "Saving to: ‘ngrok-stable-linux-amd64.zip’\n",
      "\n",
      "ngrok-stable-linux- 100%[===================>]  13.19M  38.3MB/s    in 0.3s    \n",
      "\n",
      "2022-01-07 11:38:02 (38.3 MB/s) - ‘ngrok-stable-linux-amd64.zip’ saved [13832437/13832437]\n",
      "\n",
      "Archive:  ngrok-stable-linux-amd64.zip\n"
     ]
    }
   ],
   "source": [
    "# install ngrok to emulate public IP / address\n",
    "!wget -N https://bin.equinox.io/c/4VmDzA7iaHb/ngrok-stable-linux-amd64.zip -O ngrok-stable-linux-amd64.zip\n",
    "!unzip -u ngrok-stable-linux-amd64.zip"
   ]
  },
  {
   "cell_type": "code",
   "execution_count": 2,
   "metadata": {
    "id": "xA-_dKEZbsXW"
   },
   "outputs": [
    {
     "name": "stdout",
     "output_type": "stream",
     "text": [
      "Authtoken saved to configuration file: /root/.ngrok2/ngrok.yml\r\n"
     ]
    }
   ],
   "source": [
    "# TODO: sign up for an ngrok account\n",
    "# then put your ngrok token below, uncomment, and execute\n",
    "!./ngrok authtoken 23Kbw3CcDDS20BAb1UEm7UknyJn_5gwinxnqscxNH9qgbFdHx"
   ]
  },
  {
   "cell_type": "code",
   "execution_count": 3,
   "metadata": {
    "id": "nXn5PlyGORQr"
   },
   "outputs": [
    {
     "name": "stdout",
     "output_type": "stream",
     "text": [
      "\u001b[33mWARNING: Running pip as the 'root' user can result in broken permissions and conflicting behaviour with the system package manager. It is recommended to use a virtual environment instead: https://pip.pypa.io/warnings/venv\u001b[0m\n",
      "\u001b[33mWARNING: Running pip as the 'root' user can result in broken permissions and conflicting behaviour with the system package manager. It is recommended to use a virtual environment instead: https://pip.pypa.io/warnings/venv\u001b[0m\n"
     ]
    }
   ],
   "source": [
    "# install a ngrok python package and a version of flask that works with it in \n",
    "# colab\n",
    "!pip -q install flask-ngrok\n",
    "!pip -q install flask==0.12.2\n",
    "# !pip -q install flask_restful"
   ]
  },
  {
   "cell_type": "markdown",
   "metadata": {
    "id": "6dW0y91OVu5J"
   },
   "source": [
    "# Run the app"
   ]
  },
  {
   "cell_type": "code",
   "execution_count": 4,
   "metadata": {
    "id": "oTGXXYEXV5l8"
   },
   "outputs": [
    {
     "name": "stdout",
     "output_type": "stream",
     "text": [
      "inverted_index_gcp.py\r\n"
     ]
    }
   ],
   "source": [
    "# adding our python module to the cluster\n",
    "%cd -q /home/dataproc\n",
    "!ls inverted_index_gcp.py\n",
    "from inverted_index_gcp import *\n",
    "\n",
    "# uncomment the code below and execute to reload the module when you make \n",
    "# changes to search_frontend.py (after you upload again).\n",
    "# import importlib\n",
    "# importlib.reload(se)"
   ]
  },
  {
   "cell_type": "code",
   "execution_count": 5,
   "metadata": {},
   "outputs": [
    {
     "name": "stderr",
     "output_type": "stream",
     "text": [
      "[nltk_data] Downloading package stopwords to /root/nltk_data...\n",
      "[nltk_data]   Package stopwords is already up-to-date!\n"
     ]
    }
   ],
   "source": [
    "import pyspark\n",
    "import sys\n",
    "from collections import Counter, OrderedDict\n",
    "import itertools\n",
    "from itertools import islice, count, groupby\n",
    "import pandas as pd\n",
    "import os\n",
    "import re\n",
    "from operator import itemgetter\n",
    "import nltk\n",
    "from nltk.stem.porter import *\n",
    "from nltk.corpus import stopwords\n",
    "from time import time\n",
    "from pathlib import Path\n",
    "from google.cloud import storage\n",
    "from collections import defaultdict\n",
    "from contextlib import closing\n",
    "import pandas as pd\n",
    "import numpy as np\n",
    "import hashlib\n",
    "def _hash(s):\n",
    "    return hashlib.blake2b(bytes(s, encoding='utf8'), digest_size=5).hexdigest()\n",
    "\n",
    "nltk.download('stopwords')\n",
    "\n",
    "from builtins import *\n",
    "\n",
    "bucket_name = 'fadlonbucket'\n",
    "\n",
    "import pickle\n",
    "def open_gcp(file_name):\n",
    "    client = storage.Client(file_name)\n",
    "    bucket = client.bucket(bucket_name)\n",
    "    blob = bucket.get_blob('postings_gcp/' + file_name)\n",
    "    return blob.open('rb')\n",
    "\n",
    "def read_pickle(file_name):\n",
    "    stream = open_gcp(file_name+\".pkl\")\n",
    "    pick = pickle.load(stream)\n",
    "    stream.close()\n",
    "    print(file_name)\n",
    "    return pick\n",
    "\n",
    "def get_title_by_doc_id(doc_id):\n",
    "    return doc_id_to_title_dic[doc_id]"
   ]
  },
  {
   "cell_type": "code",
   "execution_count": 6,
   "metadata": {},
   "outputs": [
    {
     "name": "stdout",
     "output_type": "stream",
     "text": [
      "Start loading...\n",
      "title\n",
      "anchor\n",
      "page_rank_dict\n",
      "page_view\n"
     ]
    }
   ],
   "source": [
    "print(\"Start loading...\")\n",
    "inverted_title = read_pickle(\"title\")\n",
    "inverted_anchor = read_pickle(\"anchor\")\n",
    "page_rank_dict = read_pickle(\"page_rank_dict\")\n",
    "page_view = read_pickle(\"page_view\")"
   ]
  },
  {
   "cell_type": "code",
   "execution_count": 7,
   "metadata": {},
   "outputs": [
    {
     "name": "stdout",
     "output_type": "stream",
     "text": [
      "text\n",
      "doc_id_to_title_dict\n",
      "Done!\n"
     ]
    }
   ],
   "source": [
    "inverted_body = read_pickle(\"text\")\n",
    "doc_id_to_title_dic = read_pickle(\"doc_id_to_title_dict\")\n",
    "print(\"Done!\")"
   ]
  },
  {
   "cell_type": "code",
   "execution_count": 8,
   "metadata": {},
   "outputs": [
    {
     "name": "stderr",
     "output_type": "stream",
     "text": [
      "[nltk_data] Downloading package stopwords to /root/nltk_data...\n",
      "[nltk_data]   Package stopwords is already up-to-date!\n"
     ]
    }
   ],
   "source": [
    "TUPLE_SIZE = 6       \n",
    "TF_MASK = 2 ** 16 - 1 # Masking the 16 low bits of an integer\n",
    "from contextlib import closing\n",
    "\n",
    "def read_posting_list(inverted, w):\n",
    "  with closing(MultiFileReader(bucket_name)) as reader:\n",
    "    print(w)\n",
    "    locs = inverted.posting_locs[w]\n",
    "    print(locs)\n",
    "    b = reader.read(locs, inverted.df[w] * TUPLE_SIZE)\n",
    "    posting_list = []\n",
    "    for i in range(inverted.df[w]):\n",
    "      doc_id = int.from_bytes(b[i*TUPLE_SIZE:i*TUPLE_SIZE+4], 'big')\n",
    "      tf = int.from_bytes(b[i*TUPLE_SIZE+4:(i+1)*TUPLE_SIZE], 'big')\n",
    "      posting_list.append((doc_id, tf))\n",
    "    return posting_list\n",
    "\n",
    "from builtins import *\n",
    "import sys\n",
    "from collections import Counter, OrderedDict\n",
    "import itertools\n",
    "from itertools import islice, count, groupby\n",
    "import pandas as pd\n",
    "import os\n",
    "import re\n",
    "from operator import itemgetter\n",
    "import nltk\n",
    "from nltk.stem.porter import *\n",
    "from nltk.corpus import stopwords\n",
    "from time import time\n",
    "from timeit import timeit\n",
    "from pathlib import Path\n",
    "import pickle\n",
    "import pandas as pd\n",
    "import numpy as np\n",
    "from google.cloud import storage\n",
    "import functools\n",
    "import hashlib\n",
    "def _hash(s):\n",
    "    return hashlib.blake2b(bytes(s, encoding='utf8'), digest_size=5).hexdigest()\n",
    "\n",
    "nltk.download('stopwords')\n",
    "english_stopwords = frozenset(stopwords.words('english'))\n",
    "corpus_stopwords = ['category', 'references', 'also', 'links', 'extenal', 'see', 'thumb']  # TODO: calculate the corups stop words\n",
    "RE_WORD = re.compile(r\"\"\"[\\#\\@\\w](['\\-]?\\w){2,24}\"\"\", re.UNICODE)\n",
    "stemmer = PorterStemmer()\n",
    "all_stopwords = english_stopwords.union(corpus_stopwords)\n",
    "\n",
    "def tokenize(text, stem=False):\n",
    "  \"\"\"\n",
    "    This function aims in tokenize a text into a list of tokens.\n",
    "    Moreover:\n",
    "    * filter stopwords.\n",
    "    * change all to lowwer case.\n",
    "    * use stemmer\n",
    "    \n",
    "    Parameters:\n",
    "    -----------\n",
    "    text: string , represting the text to tokenize.    \n",
    "    \n",
    "    Returns:\n",
    "    -----------\n",
    "    list of tokens (e.g., list of tokens).\n",
    "    \"\"\"\n",
    "  clean_text = []\n",
    "\n",
    "  text = text.lower()\n",
    "  tokens = [token.group() for token in RE_WORD.finditer(text)]\n",
    "  for token in tokens:\n",
    "    if token not in all_stopwords:\n",
    "      if stem:\n",
    "        token = stemmer.stem(token)\n",
    "      clean_text.append(token)\n",
    "  return clean_text"
   ]
  },
  {
   "cell_type": "code",
   "execution_count": 9,
   "metadata": {},
   "outputs": [],
   "source": [
    "def search_procedure(query):\n",
    "    print(\"not implemented\")\n",
    "    return []"
   ]
  },
  {
   "cell_type": "code",
   "execution_count": 10,
   "metadata": {},
   "outputs": [],
   "source": [
    "def search_body_procedure(query):\n",
    "    print(\"not implemented\")\n",
    "    return []"
   ]
  },
  {
   "cell_type": "code",
   "execution_count": 11,
   "metadata": {},
   "outputs": [],
   "source": [
    "def search_title_procedure(query):\n",
    "    query = tokenize(query)\n",
    "    results = []\n",
    "    for term in query:\n",
    "        try:\n",
    "            results.append(read_posting_list(inverted_title, term))\n",
    "        except:\n",
    "            print(\"Term not in inverted_title: \" + term)\n",
    "            pass\n",
    "    \n",
    "    if len(results) != 0:\n",
    "        results = functools.reduce(lambda a, b: a+b, results)\n",
    "        results = map(lambda x: x[0], results)\n",
    "        counter = Counter()\n",
    "        counter.update(results)\n",
    "        results = map(lambda x: (x[0], get_title_by_doc_id(x[0])), counter.most_common())\n",
    "\n",
    "    return list(results)"
   ]
  },
  {
   "cell_type": "code",
   "execution_count": 12,
   "metadata": {},
   "outputs": [],
   "source": [
    "def search_anchor_procedure(query):\n",
    "    query = tokenize(query)\n",
    "    results = []\n",
    "    for term in query:\n",
    "        try:\n",
    "            results.append(read_posting_list(inverted_anchor, term))\n",
    "        except:\n",
    "            print(\"Term not in inverted_anchor: \" + term)\n",
    "            pass\n",
    "        \n",
    "    if len(results) != 0:\n",
    "        results = functools.reduce(lambda a, b: a+b, results)\n",
    "        results = map(lambda x: x[0], results)\n",
    "        counter = Counter()\n",
    "        counter.update(results)\n",
    "        results = map(lambda x: (x[0], get_title_by_doc_id(x[0])), counter.most_common())\n",
    "    return list(results)"
   ]
  },
  {
   "cell_type": "code",
   "execution_count": 13,
   "metadata": {},
   "outputs": [],
   "source": [
    "def page_rank_procedure(wiki_ids):\n",
    "    res = []\n",
    "    for doc_id in wiki_ids:\n",
    "        try:\n",
    "            res.extend(page_rank_dict[doc_id])\n",
    "        except:\n",
    "            print(\"doc_id not in page_rank_dict: \" + str(doc_id))\n",
    "            res.append(0)\n",
    "    return res"
   ]
  },
  {
   "cell_type": "code",
   "execution_count": 14,
   "metadata": {},
   "outputs": [],
   "source": [
    "def page_view_procedure(lst):\n",
    "    res = []\n",
    "    for doc_id in lst:\n",
    "        try:\n",
    "            res.append(page_view[doc_id])\n",
    "        except:\n",
    "            print(\"doc_id not in page_view: \" + str(doc_id))\n",
    "            res.append(0)\n",
    "    return res"
   ]
  },
  {
   "cell_type": "code",
   "execution_count": 15,
   "metadata": {
    "id": "pfzN9kkxhs6n"
   },
   "outputs": [],
   "source": [
    "from flask import Flask, request, jsonify\n",
    "\n",
    "class MyFlaskApp(Flask):\n",
    "    def run(self, host=None, port=None, debug=None, **options):\n",
    "        super(MyFlaskApp, self).run(host=host, port=port, debug=debug, **options)\n",
    "\n",
    "app = MyFlaskApp(__name__)\n",
    "app.config['JSONIFY_PRETTYPRINT_REGULAR'] = False\n",
    "\n",
    "\n",
    "@app.route(\"/search\")\n",
    "def search():\n",
    "    ''' Returns up to a 100 of your best search results for the query. This is \n",
    "        the place to put forward your best search engine, and you are free to\n",
    "        implement the retrieval whoever you'd like within the bound of the \n",
    "        project requirements (efficiency, quality, etc.). That means it is up to\n",
    "        you to decide on whether to use stemming, remove stopwords, use \n",
    "        PageRank, query expansion, etc.\n",
    "\n",
    "        To issue a query navigate to a URL like:\n",
    "         http://YOUR_SERVER_DOMAIN/search?query=hello+world\n",
    "        where YOUR_SERVER_DOMAIN is something like XXXX-XX-XX-XX-XX.ngrok.io\n",
    "        if you're using ngrok on Colab or your external IP on GCP.\n",
    "    Returns:\n",
    "    --------\n",
    "        list of up to 100 search results, ordered from best to worst where each \n",
    "        element is a tuple (wiki_id, title).\n",
    "    '''\n",
    "    res = []\n",
    "    query = request.args.get('query', '')\n",
    "    if len(query) == 0:\n",
    "      return jsonify(res)\n",
    "    # BEGIN SOLUTION\n",
    "    res = search_procedure(query)\n",
    "    # END SOLUTION\n",
    "    return jsonify(res)\n",
    "\n",
    "@app.route(\"/search_body\")\n",
    "def search_body():\n",
    "    ''' Returns up to a 100 search results for the query using TFIDF AND COSINE\n",
    "        SIMILARITY OF THE BODY OF ARTICLES ONLY. DO NOT use stemming. DO USE the \n",
    "        staff-provided tokenizer from Assignment 3 (GCP part) to do the \n",
    "        tokenization and remove stopwords. \n",
    "\n",
    "        To issue a query navigate to a URL like:\n",
    "         http://YOUR_SERVER_DOMAIN/search_body?query=hello+world\n",
    "        where YOUR_SERVER_DOMAIN is something like XXXX-XX-XX-XX-XX.ngrok.io\n",
    "        if you're using ngrok on Colab or your external IP on GCP.\n",
    "    Returns:\n",
    "    --------\n",
    "        list of up to 100 search results, ordered from best to worst where each \n",
    "        element is a tuple (wiki_id, title).\n",
    "    '''\n",
    "    res = []\n",
    "    query = request.args.get('query', '')\n",
    "    if len(query) == 0:\n",
    "      return jsonify(res)\n",
    "    # BEGIN SOLUTION\n",
    "    res = search_body_procedure(query)\n",
    "    # END SOLUTION\n",
    "    return jsonify(res)\n",
    "\n",
    "@app.route(\"/search_title\")\n",
    "def search_title():\n",
    "    ''' Returns ALL (not just top 100) search results that contain A QUERY WORD \n",
    "        IN THE TITLE of articles, ordered in descending order of the NUMBER OF \n",
    "        QUERY WORDS that appear in the title. For example, a document with a \n",
    "        title that matches two of the query words will be ranked before a \n",
    "        document with a title that matches only one query term. \n",
    "\n",
    "        Test this by navigating to the a URL like:\n",
    "         http://YOUR_SERVER_DOMAIN/search_title?query=hello+world\n",
    "        where YOUR_SERVER_DOMAIN is something like XXXX-XX-XX-XX-XX.ngrok.io\n",
    "        if you're using ngrok on Colab or your external IP on GCP.\n",
    "    Returns:\n",
    "    --------\n",
    "        list of ALL (not just top 100) search results, ordered from best to \n",
    "        worst where each element is a tuple (wiki_id, title).\n",
    "    '''\n",
    "    res = []\n",
    "    query = request.args.get('query', '')\n",
    "    if len(query) == 0:\n",
    "      return jsonify(res)\n",
    "    # BEGIN SOLUTION\n",
    "    res = search_title_procedure(query)\n",
    "    # END SOLUTION\n",
    "    return jsonify(res)\n",
    "\n",
    "@app.route(\"/search_anchor\")\n",
    "def search_anchor():\n",
    "    ''' Returns ALL (not just top 100) search results that contain A QUERY WORD \n",
    "        IN THE ANCHOR TEXT of articles, ordered in descending order of the \n",
    "        NUMBER OF QUERY WORDS that appear in anchor text linking to the page. \n",
    "        For example, a document with a anchor text that matches two of the \n",
    "        query words will be ranked before a document with anchor text that \n",
    "        matches only one query term. \n",
    "\n",
    "        Test this by navigating to the a URL like:\n",
    "         http://YOUR_SERVER_DOMAIN/search_anchor?query=hello+world\n",
    "        where YOUR_SERVER_DOMAIN is something like XXXX-XX-XX-XX-XX.ngrok.io\n",
    "        if you're using ngrok on Colab or your external IP on GCP.\n",
    "    Returns:\n",
    "    --------\n",
    "        list of ALL (not just top 100) search results, ordered from best to \n",
    "        worst where each element is a tuple (wiki_id, title).\n",
    "    '''\n",
    "    res = []\n",
    "    query = request.args.get('query', '')\n",
    "    if len(query) == 0:\n",
    "      return jsonify(res)\n",
    "    # BEGIN SOLUTION\n",
    "    res = search_anchor_procedure(query)\n",
    "    # END SOLUTION\n",
    "    return jsonify(res)\n",
    "\n",
    "@app.route(\"/get_pagerank\", methods=['POST'])\n",
    "def get_pagerank():\n",
    "    ''' Returns PageRank values for a list of provided wiki article IDs. \n",
    "\n",
    "        Test this by issuing a POST request to a URL like:\n",
    "          http://YOUR_SERVER_DOMAIN/get_pagerank\n",
    "        with a json payload of the list of article ids. In python do:\n",
    "          import requests\n",
    "          requests.post('http://YOUR_SERVER_DOMAIN/get_pagerank', json=[1,5,8])\n",
    "        As before YOUR_SERVER_DOMAIN is something like XXXX-XX-XX-XX-XX.ngrok.io\n",
    "        if you're using ngrok on Colab or your external IP on GCP.\n",
    "    Returns:\n",
    "    --------\n",
    "        list of floats:\n",
    "          list of PageRank scores that correrspond to the provided article IDs.\n",
    "    '''\n",
    "    res = []\n",
    "#     wiki_ids = request.get_json()\n",
    "    wiki_ids = request.get_json(force=True, silent=True, cache=False)\n",
    "    if len(wiki_ids) == 0:\n",
    "      return jsonify(res)\n",
    "    # BEGIN SOLUTION\n",
    "    res =  page_rank_procedure(wiki_ids)\n",
    "    # END SOLUTION\n",
    "    return jsonify(res)\n",
    "\n",
    "@app.route(\"/get_pageview\", methods=['POST'])\n",
    "def get_pageview():\n",
    "    ''' Returns the number of page views that each of the provide wiki articles\n",
    "        had in August 2021.\n",
    "\n",
    "        Test this by issuing a POST request to a URL like:\n",
    "          http://YOUR_SERVER_DOMAIN/get_pageview\n",
    "        with a json payload of the list of article ids. In python do:\n",
    "          import requests\n",
    "          requests.post('http://YOUR_SERVER_DOMAIN/get_pageview', json=[1,5,8])\n",
    "        As before YOUR_SERVER_DOMAIN is something like XXXX-XX-XX-XX-XX.ngrok.io\n",
    "        if you're using ngrok on Colab or your external IP on GCP.\n",
    "    Returns:\n",
    "    --------\n",
    "        list of ints:\n",
    "          list of page view numbers from August 2021 that correrspond to the \n",
    "          provided list article IDs.\n",
    "    '''\n",
    "    res = []\n",
    "#     wiki_ids = request.get_json()\n",
    "    wiki_ids = request.get_json(force=True, silent=True, cache=False)\n",
    "    if len(wiki_ids) == 0:\n",
    "      return jsonify(res)\n",
    "    # BEGIN SOLUTION\n",
    "    res = page_view_procedure(wiki_ids)\n",
    "    # END SOLUTION\n",
    "    return jsonify(res)\n",
    "\n",
    "# print(__name__)\n",
    "# if __name__ == '__main__':\n",
    "#     # run the Flask RESTful API, make the server publicly available (host='0.0.0.0') on port 8080\n",
    "#     app.run(host='0.0.0.0', port=8080, debug=True)"
   ]
  },
  {
   "cell_type": "code",
   "execution_count": 16,
   "metadata": {
    "id": "J5n9u9rFP_wD"
   },
   "outputs": [
    {
     "name": "stderr",
     "output_type": "stream",
     "text": [
      " * Running on http://127.0.0.1:5000/ (Press CTRL+C to quit)\n"
     ]
    },
    {
     "name": "stdout",
     "output_type": "stream",
     "text": [
      " * Running on http://eb24-34-67-3-75.ngrok.io\n",
      " * Traffic stats available on http://127.0.0.1:4040\n",
      "doc_id not in page_rank_dict: 1\n",
      "doc_id not in page_rank_dict: 5\n",
      "doc_id not in page_rank_dict: 8\n"
     ]
    },
    {
     "name": "stderr",
     "output_type": "stream",
     "text": [
      "127.0.0.1 - - [07/Jan/2022 11:40:00] \"POST /get_pagerank HTTP/1.1\" 200 -\n",
      "127.0.0.1 - - [07/Jan/2022 11:40:34] \"POST /get_pagerank HTTP/1.1\" 200 -\n",
      "127.0.0.1 - - [07/Jan/2022 11:41:25] \"POST /get_pagerank HTTP/1.1\" 200 -\n"
     ]
    },
    {
     "name": "stdout",
     "output_type": "stream",
     "text": [
      "doc_id not in page_rank_dict: 1\n",
      "doc_id not in page_rank_dict: 5\n",
      "doc_id not in page_rank_dict: 8\n"
     ]
    },
    {
     "name": "stderr",
     "output_type": "stream",
     "text": [
      "127.0.0.1 - - [07/Jan/2022 11:43:01] \"POST /get_pagerank HTTP/1.1\" 200 -\n"
     ]
    },
    {
     "name": "stdout",
     "output_type": "stream",
     "text": [
      "doc_id not in page_rank_dict: 607\n",
      "doc_id not in page_rank_dict: -1\n"
     ]
    },
    {
     "name": "stderr",
     "output_type": "stream",
     "text": [
      "127.0.0.1 - - [07/Jan/2022 11:44:02] \"POST /get_pagerank HTTP/1.1\" 200 -\n",
      "127.0.0.1 - - [07/Jan/2022 11:44:53] \"POST /get_pageview HTTP/1.1\" 200 -\n"
     ]
    }
   ],
   "source": [
    "from flask_ngrok import run_with_ngrok\n",
    "from multiprocessing import Process\n",
    "\n",
    "run_with_ngrok(app) \n",
    "server = Process(target=app.run)\n",
    "server.start()"
   ]
  },
  {
   "cell_type": "code",
   "execution_count": 19,
   "metadata": {},
   "outputs": [],
   "source": [
    "# server.terminate()\n",
    "# server.join()"
   ]
  },
  {
   "cell_type": "code",
   "execution_count": null,
   "metadata": {},
   "outputs": [],
   "source": []
  },
  {
   "cell_type": "markdown",
   "metadata": {
    "id": "Na0MC_1nzDbi"
   },
   "source": [
    "# Testing your app\n",
    "\n",
    "Once your app is running you can query it. You can simply do that by navigating to the URL that ngrok gave you above or through code in a different python session. For example, once the frontend app is running, you can navigate to:\n",
    "http://YOUR_SERVER_DOMAIN/search?query=hello+world where YOUR_SERVER_DOMAIN is something like XXXX-XX-XX-XX-XX.ngrok.io, which is printed above in Colab or that is your external IP on GCP.\n",
    "\n",
    "The code below shows how to issue a query from python. This is also how our testing code will issue queries to your search engine, so make sure to test your search engine this way after you deploy it to GCP and before submission. Command line instructions for deploying your search engine to GCP are available at `run_frontend_in_gcp.sh`. Note that we will not only issue training queries to your search engine, but also test queries, i.e. queries that you've never seen before."
   ]
  },
  {
   "cell_type": "code",
   "execution_count": 19,
   "metadata": {
    "id": "EM5ePrRHojbG"
   },
   "outputs": [
    {
     "ename": "FileNotFoundError",
     "evalue": "[Errno 2] No such file or directory: 'queries_train.json'",
     "output_type": "error",
     "traceback": [
      "\u001b[0;31m---------------------------------------------------------------------------\u001b[0m",
      "\u001b[0;31mFileNotFoundError\u001b[0m                         Traceback (most recent call last)",
      "\u001b[0;32m/tmp/ipykernel_11097/475577931.py\u001b[0m in \u001b[0;36m<module>\u001b[0;34m\u001b[0m\n\u001b[1;32m      1\u001b[0m \u001b[0;32mimport\u001b[0m \u001b[0mjson\u001b[0m\u001b[0;34m\u001b[0m\u001b[0;34m\u001b[0m\u001b[0m\n\u001b[1;32m      2\u001b[0m \u001b[0;34m\u001b[0m\u001b[0m\n\u001b[0;32m----> 3\u001b[0;31m \u001b[0;32mwith\u001b[0m \u001b[0mopen\u001b[0m\u001b[0;34m(\u001b[0m\u001b[0;34m'queries_train.json'\u001b[0m\u001b[0;34m,\u001b[0m \u001b[0;34m'rt'\u001b[0m\u001b[0;34m)\u001b[0m \u001b[0;32mas\u001b[0m \u001b[0mf\u001b[0m\u001b[0;34m:\u001b[0m\u001b[0;34m\u001b[0m\u001b[0;34m\u001b[0m\u001b[0m\n\u001b[0m\u001b[1;32m      4\u001b[0m   \u001b[0mqueries\u001b[0m \u001b[0;34m=\u001b[0m \u001b[0mjson\u001b[0m\u001b[0;34m.\u001b[0m\u001b[0mload\u001b[0m\u001b[0;34m(\u001b[0m\u001b[0mf\u001b[0m\u001b[0;34m)\u001b[0m\u001b[0;34m\u001b[0m\u001b[0;34m\u001b[0m\u001b[0m\n",
      "\u001b[0;31mFileNotFoundError\u001b[0m: [Errno 2] No such file or directory: 'queries_train.json'"
     ]
    }
   ],
   "source": [
    "import json\n",
    "\n",
    "with open('queries_train.json', 'rt') as f:\n",
    "  queries = json.load(f)"
   ]
  },
  {
   "cell_type": "code",
   "execution_count": null,
   "metadata": {
    "id": "gWimZWCOy3Ei"
   },
   "outputs": [],
   "source": [
    "def average_precision(true_list, predicted_list, k=40):\n",
    "    true_set = frozenset(true_list)\n",
    "    predicted_list = predicted_list[:k]\n",
    "    precisions = []\n",
    "    for i,doc_id in enumerate(predicted_list):        \n",
    "        if doc_id in true_set:\n",
    "            prec = (len(precisions)+1) / (i+1)            \n",
    "            precisions.append(prec)\n",
    "    if len(precisions) == 0:\n",
    "        return 0.0\n",
    "    return round(sum(precisions)/len(precisions),3)"
   ]
  },
  {
   "cell_type": "code",
   "execution_count": null,
   "metadata": {
    "id": "dYmNTq9u0ChK"
   },
   "outputs": [],
   "source": [
    "import requests\n",
    "from time import time\n",
    "# url = 'http://35.232.59.3:8080'\n",
    "# place the domain you got from ngrok or GCP IP below. \n",
    "url = 'http://XXXX-XX-XX-XX-XX.ngrok.io'\n",
    "\n",
    "qs_res = []\n",
    "for q, true_wids in queries.items():\n",
    "  duration, ap = None, None\n",
    "  t_start = time()\n",
    "  try:\n",
    "    res = requests.get(url + '/search', {'query': q}, timeout=35)\n",
    "    duration = time() - t_start\n",
    "    if res.status_code == 200:\n",
    "      pred_wids, _ = zip(*res.json())\n",
    "      ap = average_precision(true_wids, pred_wids)\n",
    "  except:\n",
    "    pass\n",
    "  \n",
    "  qs_res.append((q, duration, ap))"
   ]
  }
 ],
 "metadata": {
  "colab": {
   "collapsed_sections": [],
   "name": "run_frontend_in_colab.ipynb",
   "provenance": []
  },
  "kernelspec": {
   "display_name": "Python 3",
   "language": "python",
   "name": "python3"
  },
  "language_info": {
   "codemirror_mode": {
    "name": "ipython",
    "version": 3
   },
   "file_extension": ".py",
   "mimetype": "text/x-python",
   "name": "python",
   "nbconvert_exporter": "python",
   "pygments_lexer": "ipython3",
   "version": "3.8.12"
  }
 },
 "nbformat": 4,
 "nbformat_minor": 1
}
