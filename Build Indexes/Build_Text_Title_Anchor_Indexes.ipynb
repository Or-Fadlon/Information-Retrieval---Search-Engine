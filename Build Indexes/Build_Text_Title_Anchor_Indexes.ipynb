{
  "cells": [
    {
      "cell_type": "code",
      "execution_count": null,
      "metadata": {
        "id": "naCwKZQ0w2-z",
        "scrolled": true,
        "outputId": "2404d534-0413-4f63-842c-9e48c2b8d3b0"
      },
      "outputs": [
        {
          "name": "stdout",
          "output_type": "stream",
          "text": [
            "NAME          PLATFORM  WORKER_COUNT  PREEMPTIBLE_WORKER_COUNT  STATUS   ZONE           SCHEDULED_DELETE\r\n",
            "cluster-2cd2  GCE       4                                       RUNNING  us-central1-a\r\n"
          ]
        }
      ],
      "source": [
        "# if the following command generates an error, you probably didn't enable \n",
        "# the cluster security option \"Allow API access to all Google Cloud services\"\n",
        "# under Manage Security → Project Access when setting up the cluster\n",
        "!gcloud dataproc clusters list --region us-central1"
      ]
    },
    {
      "cell_type": "markdown",
      "metadata": {
        "id": "QJTqwKoaw7Yk"
      },
      "source": [
        "# Imports & Setup"
      ]
    },
    {
      "cell_type": "code",
      "execution_count": null,
      "metadata": {
        "id": "KDIsxbFew6B9",
        "outputId": "435d40c8-f153-4253-9f6c-62dba9d57f5c"
      },
      "outputs": [
        {
          "name": "stdout",
          "output_type": "stream",
          "text": [
            "\u001b[33mWARNING: Running pip as the 'root' user can result in broken permissions and conflicting behaviour with the system package manager. It is recommended to use a virtual environment instead: https://pip.pypa.io/warnings/venv\u001b[0m\n",
            "\u001b[33mWARNING: Running pip as the 'root' user can result in broken permissions and conflicting behaviour with the system package manager. It is recommended to use a virtual environment instead: https://pip.pypa.io/warnings/venv\u001b[0m\n"
          ]
        }
      ],
      "source": [
        "!pip install -q google-cloud-storage==1.43.0\n",
        "!pip install -q graphframes"
      ]
    },
    {
      "cell_type": "code",
      "execution_count": null,
      "metadata": {
        "id": "Lisdm_pyw6bF",
        "outputId": "24d75aff-d6a1-45f2-a6b9-0a5cf48e372f"
      },
      "outputs": [
        {
          "name": "stderr",
          "output_type": "stream",
          "text": [
            "[nltk_data] Downloading package stopwords to /root/nltk_data...\n",
            "[nltk_data]   Package stopwords is already up-to-date!\n"
          ]
        }
      ],
      "source": [
        "import pyspark\n",
        "import sys\n",
        "from collections import Counter, OrderedDict, defaultdict\n",
        "import itertools\n",
        "from itertools import islice, count, groupby\n",
        "import os\n",
        "import re\n",
        "from operator import itemgetter\n",
        "import nltk\n",
        "from nltk.stem.porter import *\n",
        "from nltk.corpus import stopwords\n",
        "from time import time\n",
        "from pathlib import Path\n",
        "import pickle\n",
        "import pandas as pd\n",
        "import numpy as np\n",
        "from google.cloud import storage\n",
        "\n",
        "import hashlib\n",
        "def _hash(s):\n",
        "    return hashlib.blake2b(bytes(s, encoding='utf8'), digest_size=5).hexdigest()\n",
        "\n",
        "nltk.download('stopwords')\n",
        "\n",
        "from builtins import *"
      ]
    },
    {
      "cell_type": "code",
      "execution_count": null,
      "metadata": {
        "id": "ao9Gm5n6w6tx",
        "outputId": "31db4177-e16f-44b6-e3a3-0fc653e0f592"
      },
      "outputs": [
        {
          "name": "stdout",
          "output_type": "stream",
          "text": [
            "-rw-r--r-- 1 root root 247882 Jan  7 16:12 /usr/lib/spark/jars/graphframes-0.8.2-spark3.1-s_2.12.jar\r\n"
          ]
        }
      ],
      "source": [
        "# if nothing prints here you forgot to include the initialization script when starting the cluster\n",
        "!ls -l /usr/lib/spark/jars/graph*"
      ]
    },
    {
      "cell_type": "code",
      "execution_count": null,
      "metadata": {
        "id": "kkiesBTCw7Ek"
      },
      "outputs": [],
      "source": [
        "from pyspark.sql import *\n",
        "from pyspark.sql.functions import *\n",
        "from pyspark import SparkContext, SparkConf, SparkFiles\n",
        "from pyspark.sql import SQLContext\n",
        "from graphframes import *"
      ]
    },
    {
      "cell_type": "code",
      "execution_count": null,
      "metadata": {
        "id": "C-82-N3Pxe9n",
        "outputId": "5a58cfd5-ea58-4052-d296-5c6a3d618212"
      },
      "outputs": [
        {
          "data": {
            "text/html": [
              "\n",
              "            <div>\n",
              "                <p><b>SparkSession - hive</b></p>\n",
              "                \n",
              "        <div>\n",
              "            <p><b>SparkContext</b></p>\n",
              "\n",
              "            <p><a href=\"http://cluster-2cd2-m.c.assignment-3-334321.internal:34805\">Spark UI</a></p>\n",
              "\n",
              "            <dl>\n",
              "              <dt>Version</dt>\n",
              "                <dd><code>v3.1.2</code></dd>\n",
              "              <dt>Master</dt>\n",
              "                <dd><code>yarn</code></dd>\n",
              "              <dt>AppName</dt>\n",
              "                <dd><code>PySparkShell</code></dd>\n",
              "            </dl>\n",
              "        </div>\n",
              "        \n",
              "            </div>\n",
              "        "
            ],
            "text/plain": [
              "<pyspark.sql.session.SparkSession at 0x7fcdb6d7a520>"
            ]
          },
          "execution_count": 6,
          "metadata": {},
          "output_type": "execute_result"
        }
      ],
      "source": [
        "spark"
      ]
    },
    {
      "cell_type": "markdown",
      "metadata": {
        "id": "jdHU1z6Kxg2j"
      },
      "source": [
        "# configs"
      ]
    },
    {
      "cell_type": "code",
      "execution_count": null,
      "metadata": {
        "id": "9ONrFnUKxgiV"
      },
      "outputs": [],
      "source": [
        "# TODO: Put your bucket name below and make sure you can access it without an error\n",
        "bucket_name = 'fadlonbucket'\n",
        "\n",
        "client = storage.Client()\n",
        "blobs = client.list_blobs(bucket_name, prefix='postings_gcp')\n",
        "# # print all the blobs in the bucket\n",
        "# for b in blobs:\n",
        "#     print(b.name)"
      ]
    },
    {
      "cell_type": "code",
      "execution_count": null,
      "metadata": {
        "id": "U2pDZ55Zx8B3"
      },
      "outputs": [],
      "source": [
        "english_stopwords = frozenset(stopwords.words('english'))\n",
        "corpus_stopwords = [\"category\", \"references\", \"also\", \"external\", \"links\", \n",
        "                    \"may\", \"first\", \"see\", \"history\", \"people\", \"one\", \"two\", \n",
        "                    \"part\", \"thumb\", \"including\", \"second\", \"following\", \n",
        "                    \"many\", \"however\", \"would\", \"became\"]  # TODO: calculate the corups stop words\n",
        "all_stopwords = english_stopwords.union(corpus_stopwords)\n",
        "RE_WORD = re.compile(r\"\"\"[\\#\\@\\w](['\\-]?\\w){2,24}\"\"\", re.UNICODE)\n",
        "stemmer = PorterStemmer()\n",
        "\n",
        "def tokenize(text, use_stemmer=False):\n",
        "  \"\"\"\n",
        "    This function aims in tokenize a text into a list of tokens.\n",
        "    Moreover:\n",
        "    * filter stopwords.\n",
        "    * change all to lowwer case.\n",
        "    * if use_stemmer = true -> use stemmer\n",
        "    \n",
        "    Parameters:\n",
        "    -----------\n",
        "    text: string , represting the text to tokenize.    \n",
        "    \n",
        "    Returns:\n",
        "    -----------\n",
        "    list of tokens (e.g., list of tokens).\n",
        "    \"\"\"\n",
        "  clean_text = []\n",
        "\n",
        "  text = text.lower()\n",
        "  tokens = [token.group() for token in RE_WORD.finditer(text)]\n",
        "  for token in tokens:\n",
        "    if token not in all_stopwords:\n",
        "      if use_stemmer:\n",
        "         token = stemmer.stem(token)\n",
        "      clean_text.append(token)\n",
        "  return clean_text"
      ]
    },
    {
      "cell_type": "code",
      "execution_count": null,
      "metadata": {
        "id": "4pZcayYwMDQH"
      },
      "outputs": [],
      "source": [
        "def open_gcp(file_name):\n",
        "  \"\"\"\n",
        "    get a read bit stream to a gcp blob in the bucket.\n",
        "    start with the prefix: 'postings_gcp/'\n",
        "    \n",
        "    Parameters:\n",
        "    -----------\n",
        "    file_name: string , a path to the file.    \n",
        "    \n",
        "    Returns:\n",
        "    -----------\n",
        "    stream to read from\n",
        "    \"\"\"\n",
        "    client = storage.Client(file_name)\n",
        "    bucket = client.bucket(bucket_name)\n",
        "    blob = bucket.get_blob('postings_gcp/' + file_name)\n",
        "    return blob.open('rb')\n",
        "\n",
        "def read_pickle(file_name):\n",
        "  \"\"\"\n",
        "    read a pickle file from the bucket.\n",
        "    from 'postings_gcp/'\n",
        "\n",
        "    Parameters:\n",
        "    -----------\n",
        "    file_name: string , name of the file.    \n",
        "    \n",
        "    Returns:\n",
        "    -----------\n",
        "    object that readed from pickle\n",
        "    \"\"\"\n",
        "    stream = open_gcp(file_name+\".pkl\")\n",
        "    pick = pickle.load(stream)\n",
        "    stream.close()\n",
        "    return pick"
      ]
    },
    {
      "cell_type": "markdown",
      "metadata": {
        "id": "FuUS7o3SxuE-"
      },
      "source": [
        "# Building an Inverted Index"
      ]
    },
    {
      "cell_type": "code",
      "execution_count": null,
      "metadata": {
        "id": "v9E7RFdrxuiZ",
        "outputId": "0c0ea987-7b3a-4a98-a7c4-75364e26d656"
      },
      "outputs": [
        {
          "name": "stderr",
          "output_type": "stream",
          "text": [
            "                                                                                \r"
          ]
        },
        {
          "data": {
            "text/plain": [
              "6348910"
            ]
          },
          "execution_count": 10,
          "metadata": {},
          "output_type": "execute_result"
        }
      ],
      "source": [
        "#path to the full wiki data\n",
        "full_path = \"gs://wikidata_preprocessed/*\"\n",
        "#load to spark\n",
        "parquetFile = spark.read.parquet(full_path)\n",
        "# Count number of wiki pages\n",
        "parquetFile.count()"
      ]
    },
    {
      "cell_type": "code",
      "execution_count": null,
      "metadata": {
        "id": "QYno_twGy_hd",
        "outputId": "5dc8eb88-793c-4500-dec8-29dbc7babab4"
      },
      "outputs": [
        {
          "name": "stdout",
          "output_type": "stream",
          "text": [
            "inverted_index_gcp.py\r\n"
          ]
        }
      ],
      "source": [
        "# if nothing prints here you forgot to upload the file inverted_index_gcp.py to the home dir\n",
        "%cd -q /home/dataproc\n",
        "!ls inverted_index_gcp.py"
      ]
    },
    {
      "cell_type": "code",
      "execution_count": null,
      "metadata": {
        "id": "rXVtvt0azd7a"
      },
      "outputs": [],
      "source": [
        "# adding our python module to the cluster\n",
        "sc.addFile(\"/home/dataproc/inverted_index_gcp.py\")\n",
        "sys.path.insert(0,SparkFiles.getRootDirectory())"
      ]
    },
    {
      "cell_type": "code",
      "execution_count": null,
      "metadata": {
        "id": "lfMd2sCZzeiW"
      },
      "outputs": [],
      "source": [
        "from inverted_index_gcp import InvertedIndex, MultiFileReader"
      ]
    },
    {
      "cell_type": "markdown",
      "source": [
        "## read and write - posting list"
      ],
      "metadata": {
        "id": "TAQQaUXMQXdm"
      }
    },
    {
      "cell_type": "code",
      "execution_count": null,
      "metadata": {
        "id": "uUI05kGUzlU2"
      },
      "outputs": [],
      "source": [
        "NUM_BUCKETS = 124\n",
        "def token2bucket_id(token):\n",
        "  return int(_hash(token),16) % NUM_BUCKETS\n",
        "\n",
        "def partition_postings_and_write(postings, name):\n",
        "  ''' A function that partitions the posting lists into buckets, writes out \n",
        "  all posting lists in a bucket to disk, and returns the posting locations for \n",
        "  each bucket. Partitioning should be done through the use of `token2bucket_id` \n",
        "  above. Writing to disk should use the function  `write_a_posting_list`, a \n",
        "  static method implemented in inverted_index_colab.py under the InvertedIndex \n",
        "  class. \n",
        "  Parameters:\n",
        "  -----------\n",
        "    postings: RDD\n",
        "      An RDD where each item is a (w, posting_list) pair.\n",
        "    name: string\n",
        "      name of the index\n",
        "\n",
        "  Returns:\n",
        "  --------\n",
        "    RDD\n",
        "      An RDD where each item is a posting locations dictionary for a bucket. The\n",
        "      posting locations maintain a list for each word of file locations and \n",
        "      offsets its posting list was written to. See `write_a_posting_list` for \n",
        "      more details.\n",
        "  '''\n",
        "  save_to = postings.map(lambda x: (token2bucket_id(x[0]), x))\n",
        "  save_to = save_to.groupByKey().mapValues(list)\n",
        "  return save_to.map(lambda x: InvertedIndex.write_a_posting_list(x, bucket_name, name))\n",
        "    \n",
        "\n",
        "TUPLE_SIZE = 6       \n",
        "TF_MASK = 2 ** 16 - 1 # Masking the 16 low bits of an integer\n",
        "from contextlib import closing\n",
        "\n",
        "def read_posting_list(inverted, w):\n",
        "  ''' read a posting list of a term from a inverted index. \n",
        "\n",
        "  Parameters:\n",
        "  -----------\n",
        "    inverted: Inverted_Index\n",
        "      Inverted Index (w, posting_list) pair.\n",
        "    w: string\n",
        "      term to search\n",
        "\n",
        "  Returns:\n",
        "  --------\n",
        "    List\n",
        "      list of tuples (doc_id, frequency).\n",
        "  '''\n",
        "  with closing(MultiFileReader(bucket_name)) as reader:\n",
        "    locs = inverted.posting_locs[w]\n",
        "    b = reader.read(locs, inverted.df[w] * TUPLE_SIZE)\n",
        "    posting_list = []\n",
        "    for i in range(inverted.df[w]):\n",
        "      doc_id = int.from_bytes(b[i*TUPLE_SIZE:i*TUPLE_SIZE+4], 'big')\n",
        "      tf = int.from_bytes(b[i*TUPLE_SIZE+4:(i+1)*TUPLE_SIZE], 'big')\n",
        "      posting_list.append((doc_id, tf))\n",
        "    return posting_list"
      ]
    },
    {
      "cell_type": "markdown",
      "metadata": {
        "id": "IC3zlKnE0tCT"
      },
      "source": [
        "# Build Inverted Index:"
      ]
    },
    {
      "cell_type": "code",
      "execution_count": null,
      "metadata": {
        "id": "sTq2Zscn0u3d"
      },
      "outputs": [],
      "source": [
        "def word_count(tokens, id):\n",
        "  ''' Count the frequency of each word in `text` (tf) that is not included in \n",
        "  `all_stopwords` and return entries that will go into our posting lists. \n",
        "  Parameters:\n",
        "  -----------\n",
        "    tokens: list\n",
        "      list of tokens\n",
        "    id: int\n",
        "      Document id\n",
        "  Returns:\n",
        "  --------\n",
        "    List of tuples\n",
        "      A list of (token, (doc_id, tf)) pairs \n",
        "      for example: [(\"Anarchism\", (12, 5)), ...]\n",
        "  '''\n",
        "  dictionary = {}\n",
        "  for token in tokens:\n",
        "    if token not in dictionary:\n",
        "      dictionary[token] = [id, 1]\n",
        "    else:\n",
        "      dictionary[token][1] += 1\n",
        "  return [(doc_id, (dictionary[doc_id][0], dictionary[doc_id][1])) for doc_id in dictionary]\n",
        "\n",
        "def reduce_word_counts(unsorted_pl):\n",
        "  ''' Returns a sorted posting list by wiki_id.\n",
        "  Parameters:\n",
        "  -----------\n",
        "    unsorted_pl: list of tuples\n",
        "      A list of (wiki_id, tf) tuples \n",
        "  Returns:\n",
        "  --------\n",
        "    list of tuples\n",
        "      A sorted posting list.\n",
        "  '''\n",
        "  return sorted(unsorted_pl, key=lambda x: x[0])\n",
        "\n",
        "def calculate_df(postings):\n",
        "  ''' Takes a posting list RDD and calculate the df for each token.\n",
        "  Parameters:\n",
        "  -----------\n",
        "    postings: RDD\n",
        "      An RDD where each element is a (token, posting_list) pair.\n",
        "  Returns:\n",
        "  --------\n",
        "    RDD\n",
        "      An RDD where each element is a (token, df) pair.\n",
        "  '''\n",
        "  return postings.map(lambda x: (x[0], len(x[1])))\n",
        "\n",
        "def f_sum(x):\n",
        "  c=0\n",
        "  for i in x:\n",
        "    c += i\n",
        "  return c\n",
        "  \n",
        "def calculate_term_total(postings):\n",
        "  ''' Takes a posting list RDD and calculate the df for each token.\n",
        "  Parameters:\n",
        "  -----------\n",
        "    postings: RDD\n",
        "      An RDD where each element is a (token, posting_list) pair.\n",
        "  Returns:\n",
        "  --------\n",
        "    RDD\n",
        "      An RDD where each element is a (token, df) pair.\n",
        "  '''\n",
        "  return postings.mapValues(lambda x: [y[1] for y in x]).mapValues(f_sum)"
      ]
    },
    {
      "cell_type": "markdown",
      "metadata": {
        "id": "KW04DxtA1jUq"
      },
      "source": [
        "build index:"
      ]
    },
    {
      "cell_type": "code",
      "execution_count": null,
      "metadata": {
        "id": "EieOWsN_1lml"
      },
      "outputs": [],
      "source": [
        "def build_inverted_index(key_value_pairs, name):\n",
        "  '''\n",
        "  building InvertedIndex and save it to the bucket in the clude.\n",
        "  the data will be saved in 'postings_gcp/{name}_index/'\n",
        "\n",
        "  Parameters:\n",
        "  -----------\n",
        "    key_value_pairs: RDD\n",
        "      An RDD where each element is a (text, doc_id) pair.\n",
        "    name: string\n",
        "      name of the InvertedIndex, the data will be saved in 'postings_gcp/{name}_index/'\n",
        "\n",
        "  Returns:\n",
        "  --------\n",
        "    Inverted_Index\n",
        "     the new inverted index.\n",
        "  '''\n",
        "  word_counts = key_value_pairs.flatMap(lambda x: word_count(tokenize(x[0]), x[1]))\n",
        "  postings = word_counts.groupByKey().mapValues(reduce_word_counts)\n",
        "  postings = postings.filter(lambda x: len(x[1])>50)\n",
        "  w2df = calculate_df(postings)\n",
        "  w2df_dict = w2df.collectAsMap()\n",
        "  _ = partition_postings_and_write(postings, name).collect() #TODO: _ was \"posting_locs_list\" before\n",
        "\n",
        "  # collect all posting lists locations into one super-set\n",
        "  super_posting_locs = defaultdict(list)\n",
        "  for blob in client.list_blobs(bucket_name, prefix=f'postings_gcp/{name}_index/'):\n",
        "    if not blob.name.endswith(\"pickle\"):\n",
        "      continue\n",
        "    with blob.open(\"rb\") as f:\n",
        "      posting_locs = pickle.load(f)\n",
        "      for k, v in posting_locs.items():\n",
        "        super_posting_locs[k].extend(v)\n",
        "  \n",
        "  # build DL\n",
        "  DL = key_value_pairs.map(lambda x: (x[1], len(tokenize(x[0]))))\n",
        "  #build term_total\n",
        "  term_total = calculate_term_total(postings).groupByKey().mapValues(f_sum)\n",
        "\n",
        "  # Create inverted index instance\n",
        "  index = InvertedIndex()\n",
        "  # Adding the posting locations dictionary to the inverted index\n",
        "  index.posting_locs = super_posting_locs\n",
        "  # Add the token - df dictionary to the inverted index\n",
        "  index.df = w2df_dict\n",
        "  # Add the DL\n",
        "  index.DL = dict(DL.collect())\n",
        "  # term_total\n",
        "  index.term_total = dict(term_total.collect())\n",
        "  # write the global stats out\n",
        "  index.write_index('.', name)\n",
        "\n",
        "  # upload to gs\n",
        "  index_src = name + \".pkl\"\n",
        "  index_dst = f'gs://{bucket_name}/postings_gcp/{index_src}'\n",
        "  !gsutil cp $index_src $index_dst\n",
        "  !gsutil ls -lh $index_dst\n",
        "\n",
        "  return index"
      ]
    },
    {
      "cell_type": "code",
      "source": [
        "# rdd of text and doc_id\n",
        "doc_text_pairs = parquetFile.select(\"text\", \"id\").rdd\n",
        "# rdd of title and doc_id\n",
        "doc_title_pairs = parquetFile.select(\"title\", \"id\").rdd\n",
        "# rdd of anchor_text and doc_id\n",
        "anchor_data = parquetFile.select(\"anchor_text\").rdd"
      ],
      "metadata": {
        "id": "LJ_5R3KKT5lB"
      },
      "execution_count": null,
      "outputs": []
    },
    {
      "cell_type": "code",
      "execution_count": null,
      "metadata": {
        "id": "K9Da2UGW3dCT",
        "scrolled": true
      },
      "outputs": [],
      "source": [
        "#build body\n",
        "body_index_name = \"text\"\n",
        "inverted_body = build_inverted_index(doc_text_pairs, bodi_index_name)\n",
        "\n",
        "#build title\n",
        "title_index_name = \"title\"\n",
        "inverted_title = build_inverted_index(doc_title_pairs, title_index_name)\n",
        "\n",
        "#build anchor\n",
        "def to_pairs(row):\n",
        "    pairs = []\n",
        "    for doc_id, anchor_text in row[0]:\n",
        "        pairs.append((doc_id, anchor_text))\n",
        "    return pairs\n",
        "\n",
        "all_anchor_text = anchor_data.flatMap(to_pairs).groupByKey().mapValues(list).map(lambda x: (\" \".join(x[1]), x[0]))\n",
        "anchor_index_name = \"anchor\"\n",
        "inverted_anchor = build_inverted_index(all_anchor_text, anchor_index_name)"
      ]
    },
    {
      "cell_type": "code",
      "execution_count": null,
      "metadata": {
        "id": "-x_8-ADCMDQO"
      },
      "outputs": [],
      "source": [
        "print(\"DONE!!!\")"
      ]
    },
    {
      "cell_type": "code",
      "execution_count": null,
      "metadata": {
        "id": "gnEui5ydMDQQ"
      },
      "outputs": [],
      "source": [
        ""
      ]
    }
  ],
  "metadata": {
    "colab": {
      "collapsed_sections": [],
      "name": "Build_Text_Title_Anchor_Indexes.ipynb",
      "provenance": []
    },
    "kernelspec": {
      "display_name": "PySpark",
      "language": "python",
      "name": "pyspark"
    },
    "language_info": {
      "codemirror_mode": {
        "name": "ipython",
        "version": 3
      },
      "file_extension": ".py",
      "mimetype": "text/x-python",
      "name": "python",
      "nbconvert_exporter": "python",
      "pygments_lexer": "ipython3",
      "version": "3.8.12"
    }
  },
  "nbformat": 4,
  "nbformat_minor": 0
}